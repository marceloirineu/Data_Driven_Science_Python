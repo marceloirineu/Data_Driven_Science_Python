{
  "nbformat": 4,
  "nbformat_minor": 0,
  "metadata": {
    "colab": {
      "provenance": [],
      "authorship_tag": "ABX9TyOqwPgiYXqu+wdgTdNsKu50",
      "include_colab_link": true
    },
    "kernelspec": {
      "name": "python3",
      "display_name": "Python 3"
    },
    "language_info": {
      "name": "python"
    }
  },
  "cells": [
    {
      "cell_type": "markdown",
      "metadata": {
        "id": "view-in-github",
        "colab_type": "text"
      },
      "source": [
        "<a href=\"https://colab.research.google.com/github/marceloirineu/Data_Driven_Science_Python/blob/master/Untitled4.ipynb\" target=\"_parent\"><img src=\"https://colab.research.google.com/assets/colab-badge.svg\" alt=\"Open In Colab\"/></a>"
      ]
    },
    {
      "cell_type": "markdown",
      "source": [
        "Programação Orientada a Objetivos - Classes"
      ],
      "metadata": {
        "id": "m4AOskfxpt0r"
      }
    },
    {
      "cell_type": "code",
      "source": [
        "class Veiculo():\n",
        "    def __init__(self, tipo, chassi, marca, modelo, ano):\n",
        "        self.tipo = tipo\n",
        "        self.chassi = chassi\n",
        "        self.marca = marca\n",
        "        self.modelo = modelo\n",
        "        self.ano = ano\n",
        "\n",
        "class Moto():\n",
        "    def __init__(self, tipo, chassi, marca, modelo, ano):\n",
        "        self.tipo = tipo\n",
        "        self.chassi = chassi\n",
        "        self.marca = marca\n",
        "        self.modelo = modelo\n",
        "        self.ano = ano\n",
        "\n",
        "class Aviao():\n",
        "    def __init__(self, tipo, motor, linha_aerea, modelo, ano):\n",
        "        self.tipo = tipo\n",
        "        self.motor = motor\n",
        "        self.linha_aerea = linha_aerea\n",
        "        self.modelo = modelo\n",
        "        self.ano = ano\n",
        "\n",
        "carro = Veiculo('carro', '7h6767ejf4ijb3b4b55u', 'Marcax', 'modelox', '2012')\n",
        "print(vars(carro))\n",
        "\n",
        "moto = Moto('moto', '7h6767ejf4ijb3b4b55u', 'Marcax', 'modelox', '2012')\n",
        "print(vars(moto))\n",
        "veiculo = Veiculo('aviao', '7h6767ejf4ijb3b4b55u', 'Marcax', 'modelox', '2012')\n",
        "print(vars(veiculo))\n",
        "\n"
      ],
      "metadata": {
        "colab": {
          "base_uri": "https://localhost:8080/"
        },
        "id": "moyCHCarp_RZ",
        "outputId": "080c11db-5105-4731-89d0-e0b05c5556df"
      },
      "execution_count": 9,
      "outputs": [
        {
          "output_type": "stream",
          "name": "stdout",
          "text": [
            "{'tipo': 'carro', 'chassi': '7h6767ejf4ijb3b4b55u', 'marca': 'Marcax', 'modelo': 'modelox', 'ano': '2012'}\n",
            "{'tipo': 'moto', 'chassi': '7h6767ejf4ijb3b4b55u', 'marca': 'Marcax', 'modelo': 'modelox', 'ano': '2012'}\n",
            "{'tipo': 'aviao', 'chassi': '7h6767ejf4ijb3b4b55u', 'marca': 'Marcax', 'modelo': 'modelox', 'ano': '2012'}\n"
          ]
        }
      ]
    },
    {
      "cell_type": "markdown",
      "source": [
        "Class Funcionário"
      ],
      "metadata": {
        "id": "-PRcKwhl0xDz"
      }
    },
    {
      "cell_type": "code",
      "source": [
        "class Funcionarios():\n",
        "    def __init__(self, nome, cpf, salario):\n",
        "        self.nome = nome\n",
        "        self.cpf = cpf\n",
        "        self.salario = salario"
      ],
      "metadata": {
        "id": "3te1jtD501md"
      },
      "execution_count": null,
      "outputs": []
    }
  ]
}