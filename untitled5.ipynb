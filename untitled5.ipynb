{
  "nbformat": 4,
  "nbformat_minor": 0,
  "metadata": {
    "colab": {
      "provenance": [],
      "authorship_tag": "ABX9TyOGa3QMbrTsJ8dJtK/rnATT",
      "include_colab_link": true
    },
    "kernelspec": {
      "name": "python3",
      "display_name": "Python 3"
    },
    "language_info": {
      "name": "python"
    }
  },
  "cells": [
    {
      "cell_type": "markdown",
      "metadata": {
        "id": "view-in-github",
        "colab_type": "text"
      },
      "source": [
        "<a href=\"https://colab.research.google.com/github/marceloirineu/Data_Driven_Science_Python/blob/master/untitled5.ipynb\" target=\"_parent\"><img src=\"https://colab.research.google.com/assets/colab-badge.svg\" alt=\"Open In Colab\"/></a>"
      ]
    },
    {
      "cell_type": "markdown",
      "source": [
        "Associação"
      ],
      "metadata": {
        "id": "AuaHUnfSYAw6"
      }
    },
    {
      "cell_type": "code",
      "execution_count": 2,
      "metadata": {
        "id": "ECvz_eEdX3Jg"
      },
      "outputs": [],
      "source": [
        "class Escritor():\n",
        "    def __init__(self, nome):\n",
        "        self.nome = nome\n",
        "        self.__ferramenta = None\n",
        "\n",
        "    @property\n",
        "    def nome(self):\n",
        "        return self.__nome\n",
        "\n",
        "    @property\n",
        "    def ferramenta(self):\n",
        "        return self.__ferramenta\n",
        "\n",
        "    @ferramenta.setter\n",
        "    def ferramenta(self, ferramenta):\n",
        "        self.__ferramenta = ferramenta\n",
        "\n",
        "class Caneta():\n",
        "    def __init__(self, marca):\n",
        "        self.__marca = marca\n",
        "\n",
        "    @property\n",
        "    def marca (self):\n",
        "        return self.__marca\n",
        "    def escrever(self):\n",
        "        print(\"Caneta está escrevendo\")\n"
      ]
    }
  ]
}